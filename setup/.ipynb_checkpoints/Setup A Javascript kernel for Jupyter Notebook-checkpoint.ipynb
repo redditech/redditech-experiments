{
 "cells": [
  {
   "cell_type": "markdown",
   "id": "d4ec9ec3",
   "metadata": {},
   "source": [
    "# Setup a Javascript Kernel for Jupyter Notebook"
   ]
  },
  {
   "cell_type": "markdown",
   "id": "c69de9ce",
   "metadata": {},
   "source": [
    "Why? REPLs are a great way to experiment and learn. It would be nice to have Javascript (and Typescript) code hacks side by side with some documentation on what they do and references/attribution to any sources that helped build them to give credit to the good works of others"
   ]
  },
  {
   "cell_type": "markdown",
   "id": "9146da58",
   "metadata": {},
   "source": [
    "For this experiment I will use [tslab] since it supports Javascript and Typescript and seems to have some activity behind it currently"
   ]
  },
  {
   "cell_type": "code",
   "execution_count": null,
   "id": "bc6cbc34",
   "metadata": {},
   "outputs": [],
   "source": []
  }
 ],
 "metadata": {
  "kernelspec": {
   "display_name": "Python 3",
   "language": "python",
   "name": "python3"
  },
  "language_info": {
   "codemirror_mode": {
    "name": "ipython",
    "version": 3
   },
   "file_extension": ".py",
   "mimetype": "text/x-python",
   "name": "python",
   "nbconvert_exporter": "python",
   "pygments_lexer": "ipython3",
   "version": "3.7.6"
  }
 },
 "nbformat": 4,
 "nbformat_minor": 5
}
