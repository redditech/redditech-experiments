{
 "cells": [
  {
   "cell_type": "markdown",
   "id": "414f1b9b-e6a1-4ef2-b192-c5585e328158",
   "metadata": {},
   "source": [
    "# Setup Haskell kernel for Jupyter"
   ]
  },
  {
   "cell_type": "markdown",
   "id": "7686f9f3-4a65-45e8-bb51-3a4fb3d7142f",
   "metadata": {},
   "source": [
    "I want to learn Haskell, but want the REPL experience of Jupyter to document my learning and mistakes. So the goal is to setup a kernel for Jupyter that will compile Haskell code as I learn"
   ]
  },
  {
   "cell_type": "markdown",
   "id": "f78c87da-d739-4e59-8399-06ba1a97b0ae",
   "metadata": {},
   "source": [
    "Looking at the [list of kernels](https://github.com/jupyter/jupyter/wiki/Jupyter-kernels) there is indeed [IHaskell](https://github.com/gibiansky/IHaskell) which allows Haskell as a kernel for Jupyter"
   ]
  },
  {
   "cell_type": "markdown",
   "id": "29fbc7b6-4e99-4ad9-8f91-18dcdcc54033",
   "metadata": {},
   "source": [
    "## 0. Setup Ananconda, Jupyter Lab"
   ]
  },
  {
   "cell_type": "markdown",
   "id": "3c780cbd-e490-46ae-8033-1dfc8917b674",
   "metadata": {},
   "source": [
    "First of course, we need an environment to do this experiment safely. So as usual I use Homebrew to install Anaconda with the latest Python libraries, and an environment with [Jupyter Lab installed](https://jupyterlab.readthedocs.io/en/stable/getting_started/installation.html)"
   ]
  },
  {
   "cell_type": "code",
   "execution_count": 3,
   "id": "f540e35c-690f-4fab-93b8-9a2927b28257",
   "metadata": {},
   "outputs": [
    {
     "name": "stdout",
     "output_type": "stream",
     "text": [
      "\u001b[33mWarning:\u001b[0m Cask 'anaconda' is already installed.\n",
      "\n",
      "To re-install anaconda, run:\n",
      "  \u001b[32mbrew reinstall anaconda\u001b[39m\n"
     ]
    }
   ],
   "source": [
    "!brew install anaconda"
   ]
  },
  {
   "cell_type": "code",
   "execution_count": 4,
   "id": "6a2d7ce8-0a70-4a70-9286-56e97d98359a",
   "metadata": {},
   "outputs": [
    {
     "name": "stdout",
     "output_type": "stream",
     "text": [
      "WARNING: A conda environment already exists at '/usr/local/anaconda3/envs/ihaskell'\n",
      "Remove existing environment (y/[n])? Invalid choice: conda activate ihaskell\n",
      "WARNING: A conda environment already exists at '/usr/local/anaconda3/envs/ihaskell'\n",
      "Remove existing environment (y/[n])? Invalid choice: conda install -c conda-forge jupyterlab --yes\n",
      "WARNING: A conda environment already exists at '/usr/local/anaconda3/envs/ihaskell'\n",
      "Remove existing environment (y/[n])? \n"
     ]
    },
    {
     "name": "stderr",
     "output_type": "stream",
     "text": [
      "\n",
      "CondaSystemExit: Exiting.\n",
      "\n"
     ]
    }
   ],
   "source": [
    "%%bash\n",
    "conda create --name ihaskell python=3.9\n",
    "conda activate ihaskell\n",
    "conda install -c conda-forge jupyterlab --yes"
   ]
  },
  {
   "cell_type": "markdown",
   "id": "cc4c5973-7ed4-4927-9ac5-465cd0bd9b2c",
   "metadata": {},
   "source": [
    "> Note it errors here since I had done this outside in my shell previously, but just documented the steps here for future environment usage. Below I have some outputs from this being run, but you can't activate a new environment while running in Jupyter Lab in it already"
   ]
  },
  {
   "cell_type": "markdown",
   "id": "a9d8c6f1-7d7a-48d9-ae92-5bcdb34328b4",
   "metadata": {},
   "source": [
    "## 1. Create an environment for IHaskell work"
   ]
  },
  {
   "cell_type": "code",
   "execution_count": 15,
   "id": "be3f0593-44d8-4692-81ce-4150938611b0",
   "metadata": {},
   "outputs": [
    {
     "name": "stdout",
     "output_type": "stream",
     "text": [
      "Collecting package metadata (current_repodata.json): done\n",
      "Solving environment: done\n",
      "\n",
      "## Package Plan ##\n",
      "\n",
      "  environment location: /usr/local/anaconda3/envs/ihaskell\n",
      "\n",
      "  added / updated specs:\n",
      "    - python=3.9\n",
      "\n",
      "\n",
      "The following packages will be downloaded:\n",
      "\n",
      "    package                    |            build\n",
      "    ---------------------------|-----------------\n",
      "    python-3.9.5               |       h88f2d9e_3         9.9 MB\n",
      "    ------------------------------------------------------------\n",
      "                                           Total:         9.9 MB\n",
      "\n",
      "The following NEW packages will be INSTALLED:\n",
      "\n",
      "  ca-certificates    pkgs/main/osx-64::ca-certificates-2021.4.13-hecd8cb5_1\n",
      "  certifi            pkgs/main/osx-64::certifi-2020.12.5-py39hecd8cb5_0\n",
      "  libcxx             pkgs/main/osx-64::libcxx-10.0.0-1\n",
      "  libffi             pkgs/main/osx-64::libffi-3.3-hb1e8313_2\n",
      "  ncurses            pkgs/main/osx-64::ncurses-6.2-h0a44026_1\n",
      "  openssl            pkgs/main/osx-64::openssl-1.1.1k-h9ed2024_0\n",
      "  pip                pkgs/main/osx-64::pip-21.0.1-py39hecd8cb5_0\n",
      "  python             pkgs/main/osx-64::python-3.9.5-h88f2d9e_3\n",
      "  readline           pkgs/main/osx-64::readline-8.1-h9ed2024_0\n",
      "  setuptools         pkgs/main/osx-64::setuptools-52.0.0-py39hecd8cb5_0\n",
      "  sqlite             pkgs/main/osx-64::sqlite-3.35.4-hce871da_0\n",
      "  tk                 pkgs/main/osx-64::tk-8.6.10-hb0a8c7a_0\n",
      "  tzdata             pkgs/main/noarch::tzdata-2020f-h52ac0ba_0\n",
      "  wheel              pkgs/main/noarch::wheel-0.36.2-pyhd3eb1b0_0\n",
      "  xz                 pkgs/main/osx-64::xz-5.2.5-h1de35cc_0\n",
      "  zlib               pkgs/main/osx-64::zlib-1.2.11-h1de35cc_3\n",
      "\n",
      "\n",
      "\n",
      "Downloading and Extracting Packages\n",
      "python-3.9.5         | 9.9 MB    | ##################################### | 100% \n",
      "Preparing transaction: done\n",
      "Verifying transaction: - WARNING conda.core.path_actions:verify(963): Unable to create environments file. Path not writable.\n",
      "  environment location: /Users/nissan/.conda/environments.txt\n",
      "\n",
      "done\n",
      "Executing transaction: | WARNING conda.core.envs_manager:register_env(52): Unable to register environment. Path not writable or missing.\n",
      "  environment location: /usr/local/anaconda3/envs/ihaskell\n",
      "  registry file: /Users/nissan/.conda/environments.txt\n",
      "done\n",
      "#\n",
      "# To activate this environment, use\n",
      "#\n",
      "#     $ conda activate ihaskell\n",
      "#\n",
      "# To deactivate an active environment, use\n",
      "#\n",
      "#     $ conda deactivate\n",
      "\n"
     ]
    }
   ],
   "source": [
    "!conda create --name ihaskell python=3.9 --yes"
   ]
  },
  {
   "cell_type": "code",
   "execution_count": 16,
   "id": "8f194156-ce49-43aa-8f61-5f7d2eff8f47",
   "metadata": {},
   "outputs": [
    {
     "name": "stdout",
     "output_type": "stream",
     "text": [
      "\n",
      "CommandNotFoundError: Your shell has not been properly configured to use 'conda activate'.\n",
      "To initialize your shell, run\n",
      "\n",
      "    $ conda init <SHELL_NAME>\n",
      "\n",
      "Currently supported shells are:\n",
      "  - bash\n",
      "  - fish\n",
      "  - tcsh\n",
      "  - xonsh\n",
      "  - zsh\n",
      "  - powershell\n",
      "\n",
      "See 'conda init --help' for more information and options.\n",
      "\n",
      "IMPORTANT: You may need to close and restart your shell after running 'conda init'.\n",
      "\n",
      "\n"
     ]
    }
   ],
   "source": [
    "!conda activate ihaskell"
   ]
  },
  {
   "cell_type": "markdown",
   "id": "a4d47c2f-fd69-4206-9cd9-3581211c4c2b",
   "metadata": {},
   "source": [
    "## 1. Install a Haskell compiler\n",
    "> I am doing this for Mac following [Haskell Tool Stack](https://docs.haskellstack.org/en/stable/README/) but other OS instructions are [available](https://www.haskell.org/platform/)"
   ]
  },
  {
   "cell_type": "code",
   "execution_count": 5,
   "id": "990f072e-3d30-40c3-9805-6a1257541528",
   "metadata": {},
   "outputs": [
    {
     "name": "stdout",
     "output_type": "stream",
     "text": [
      "Stack version 2.7.1 already appears to be installed at:\n",
      "  /usr/local/bin/stack\n",
      "\n",
      "Use 'stack upgrade' or your OS's package manager to upgrade,\n",
      "or pass '-f' to this script to over-write the existing binary, e.g.:\n",
      "  curl -sSL https://get.haskellstack.org/ | sh -s - -f\n",
      "\n",
      "To install to a different location, pass '-d DESTDIR', e.g.:\n",
      "  curl -sSL https://get.haskellstack.org/ | sh -s - -d /opt/stack/bin\n"
     ]
    }
   ],
   "source": [
    "!curl -sSL https://get.haskellstack.org/ | sh"
   ]
  },
  {
   "cell_type": "code",
   "execution_count": 6,
   "id": "f4c80b5d-dc60-40b7-8d97-8a8860eb5729",
   "metadata": {},
   "outputs": [
    {
     "name": "stdout",
     "output_type": "stream",
     "text": [
      "\u001b[0mCurrent Stack version: 2.7.1, available download version: 2.7.1\u001b[0m\n",
      "\u001b[0mSkipping binary upgrade, you are already running the most recent version\u001b[0m\n"
     ]
    }
   ],
   "source": [
    "!stack upgrade"
   ]
  },
  {
   "cell_type": "markdown",
   "id": "e2ad77fa-f546-400b-857e-7fa25933d905",
   "metadata": {},
   "source": [
    "> Add updated stack version to my path"
   ]
  },
  {
   "cell_type": "code",
   "execution_count": 3,
   "id": "67b6d555-6599-4cb3-b3f8-5878a11620f7",
   "metadata": {},
   "outputs": [],
   "source": [
    "!echo 'export PATH=\"/User/nissan/.local/bin\":$PATH' >> ~/.zshrc"
   ]
  },
  {
   "cell_type": "markdown",
   "id": "7ac5cdbd-7d30-483b-9ddd-99371bde584d",
   "metadata": {},
   "source": [
    "## 2. Clone the IHaskell repo from Github"
   ]
  },
  {
   "cell_type": "code",
   "execution_count": 7,
   "id": "8d9d09db-cffb-4b2e-a193-e9f4e24a2666",
   "metadata": {},
   "outputs": [
    {
     "name": "stdout",
     "output_type": "stream",
     "text": [
      "Cloning into 'IHaskell'...\n",
      "remote: Enumerating objects: 11945, done.\u001b[K\n",
      "remote: Counting objects: 100% (193/193), done.\u001b[K\n",
      "remote: Compressing objects: 100% (126/126), done.\u001b[K\n",
      "remote: Total 11945 (delta 77), reused 110 (delta 42), pack-reused 11752\u001b[K\n",
      "Receiving objects: 100% (11945/11945), 6.35 MiB | 2.29 MiB/s, done.\n",
      "Resolving deltas: 100% (7202/7202), done.\n"
     ]
    }
   ],
   "source": [
    "!git clone https://github.com/gibiansky/IHaskell"
   ]
  },
  {
   "cell_type": "code",
   "execution_count": 19,
   "id": "445afee6-d48a-418a-8fc4-89f2b3dafe2e",
   "metadata": {},
   "outputs": [
    {
     "name": "stdout",
     "output_type": "stream",
     "text": [
      "/Users/nissan/code/redditech-experiments/setup/IHaskell\n",
      "jupyter==1.0.0\n",
      "jupyter_nbextensions_configurator\n",
      "jupyter_contrib_nbextensions\n",
      "ipykernel\n",
      "ipywidgets==7.5.1\n",
      "jupyter-client==6.1.5\n",
      "jupyter-console==6.1.0\n",
      "jupyter-core==4.6.3\n",
      "nbconvert==5.6.1\n",
      "notebook==6.1.5\n",
      "Requirement already satisfied: jupyter==1.0.0 in /usr/local/anaconda3/envs/ihaskell/lib/python3.9/site-packages (from -r requirements.txt (line 1)) (1.0.0)\n",
      "Requirement already satisfied: jupyter_nbextensions_configurator in /usr/local/anaconda3/envs/ihaskell/lib/python3.9/site-packages (from -r requirements.txt (line 2)) (0.4.1)\n",
      "Requirement already satisfied: jupyter_contrib_nbextensions in /usr/local/anaconda3/envs/ihaskell/lib/python3.9/site-packages (from -r requirements.txt (line 3)) (0.5.1)\n",
      "Requirement already satisfied: ipykernel in /usr/local/anaconda3/envs/ihaskell/lib/python3.9/site-packages (from -r requirements.txt (line 4)) (5.5.5)\n",
      "Requirement already satisfied: ipywidgets==7.5.1 in /usr/local/anaconda3/envs/ihaskell/lib/python3.9/site-packages (from -r requirements.txt (line 5)) (7.5.1)\n",
      "Requirement already satisfied: jupyter-client==6.1.5 in /usr/local/anaconda3/envs/ihaskell/lib/python3.9/site-packages (from -r requirements.txt (line 6)) (6.1.5)\n",
      "Requirement already satisfied: jupyter-console==6.1.0 in /usr/local/anaconda3/envs/ihaskell/lib/python3.9/site-packages (from -r requirements.txt (line 7)) (6.1.0)\n",
      "Requirement already satisfied: jupyter-core==4.6.3 in /usr/local/anaconda3/envs/ihaskell/lib/python3.9/site-packages (from -r requirements.txt (line 8)) (4.6.3)\n",
      "Requirement already satisfied: nbconvert==5.6.1 in /usr/local/anaconda3/envs/ihaskell/lib/python3.9/site-packages (from -r requirements.txt (line 9)) (5.6.1)\n",
      "Requirement already satisfied: notebook==6.1.5 in /usr/local/anaconda3/envs/ihaskell/lib/python3.9/site-packages (from -r requirements.txt (line 10)) (6.1.5)\n",
      "Requirement already satisfied: traitlets>=4.3.1 in /usr/local/anaconda3/envs/ihaskell/lib/python3.9/site-packages (from ipywidgets==7.5.1->-r requirements.txt (line 5)) (5.0.5)\n",
      "Requirement already satisfied: widgetsnbextension~=3.5.0 in /usr/local/anaconda3/envs/ihaskell/lib/python3.9/site-packages (from ipywidgets==7.5.1->-r requirements.txt (line 5)) (3.5.1)\n",
      "Requirement already satisfied: ipython>=4.0.0 in /usr/local/anaconda3/envs/ihaskell/lib/python3.9/site-packages (from ipywidgets==7.5.1->-r requirements.txt (line 5)) (7.23.1)\n",
      "Requirement already satisfied: nbformat>=4.2.0 in /usr/local/anaconda3/envs/ihaskell/lib/python3.9/site-packages (from ipywidgets==7.5.1->-r requirements.txt (line 5)) (5.1.3)\n",
      "Requirement already satisfied: qtconsole in /usr/local/anaconda3/envs/ihaskell/lib/python3.9/site-packages (from jupyter==1.0.0->-r requirements.txt (line 1)) (5.1.0)\n",
      "Requirement already satisfied: tornado>=4.1 in /usr/local/anaconda3/envs/ihaskell/lib/python3.9/site-packages (from jupyter-client==6.1.5->-r requirements.txt (line 6)) (6.1)\n",
      "Requirement already satisfied: pyzmq>=13 in /usr/local/anaconda3/envs/ihaskell/lib/python3.9/site-packages (from jupyter-client==6.1.5->-r requirements.txt (line 6)) (20.0.0)\n",
      "Requirement already satisfied: python-dateutil>=2.1 in /usr/local/anaconda3/envs/ihaskell/lib/python3.9/site-packages (from jupyter-client==6.1.5->-r requirements.txt (line 6)) (2.8.1)\n",
      "Requirement already satisfied: pygments in /usr/local/anaconda3/envs/ihaskell/lib/python3.9/site-packages (from jupyter-console==6.1.0->-r requirements.txt (line 7)) (2.9.0)\n",
      "Requirement already satisfied: prompt-toolkit!=3.0.0,!=3.0.1,<3.1.0,>=2.0.0 in /usr/local/anaconda3/envs/ihaskell/lib/python3.9/site-packages (from jupyter-console==6.1.0->-r requirements.txt (line 7)) (3.0.18)\n",
      "Requirement already satisfied: pandocfilters>=1.4.1 in /usr/local/anaconda3/envs/ihaskell/lib/python3.9/site-packages (from nbconvert==5.6.1->-r requirements.txt (line 9)) (1.4.2)\n",
      "Requirement already satisfied: entrypoints>=0.2.2 in /usr/local/anaconda3/envs/ihaskell/lib/python3.9/site-packages (from nbconvert==5.6.1->-r requirements.txt (line 9)) (0.3)\n",
      "Requirement already satisfied: testpath in /usr/local/anaconda3/envs/ihaskell/lib/python3.9/site-packages (from nbconvert==5.6.1->-r requirements.txt (line 9)) (0.5.0)\n",
      "Requirement already satisfied: defusedxml in /usr/local/anaconda3/envs/ihaskell/lib/python3.9/site-packages (from nbconvert==5.6.1->-r requirements.txt (line 9)) (0.7.1)\n",
      "Requirement already satisfied: bleach in /usr/local/anaconda3/envs/ihaskell/lib/python3.9/site-packages (from nbconvert==5.6.1->-r requirements.txt (line 9)) (3.3.0)\n",
      "Requirement already satisfied: jinja2>=2.4 in /usr/local/anaconda3/envs/ihaskell/lib/python3.9/site-packages (from nbconvert==5.6.1->-r requirements.txt (line 9)) (3.0.1)\n",
      "Requirement already satisfied: mistune<2,>=0.8.1 in /usr/local/anaconda3/envs/ihaskell/lib/python3.9/site-packages (from nbconvert==5.6.1->-r requirements.txt (line 9)) (0.8.4)\n",
      "Requirement already satisfied: Send2Trash in /usr/local/anaconda3/envs/ihaskell/lib/python3.9/site-packages (from notebook==6.1.5->-r requirements.txt (line 10)) (1.5.0)\n",
      "Requirement already satisfied: prometheus-client in /usr/local/anaconda3/envs/ihaskell/lib/python3.9/site-packages (from notebook==6.1.5->-r requirements.txt (line 10)) (0.10.1)\n",
      "Requirement already satisfied: argon2-cffi in /usr/local/anaconda3/envs/ihaskell/lib/python3.9/site-packages (from notebook==6.1.5->-r requirements.txt (line 10)) (20.1.0)\n",
      "Requirement already satisfied: terminado>=0.8.3 in /usr/local/anaconda3/envs/ihaskell/lib/python3.9/site-packages (from notebook==6.1.5->-r requirements.txt (line 10)) (0.9.4)\n",
      "Requirement already satisfied: ipython-genutils in /usr/local/anaconda3/envs/ihaskell/lib/python3.9/site-packages (from notebook==6.1.5->-r requirements.txt (line 10)) (0.2.0)\n",
      "Requirement already satisfied: appnope in /usr/local/anaconda3/envs/ihaskell/lib/python3.9/site-packages (from ipykernel->-r requirements.txt (line 4)) (0.1.2)\n",
      "Requirement already satisfied: jedi>=0.16 in /usr/local/anaconda3/envs/ihaskell/lib/python3.9/site-packages (from ipython>=4.0.0->ipywidgets==7.5.1->-r requirements.txt (line 5)) (0.18.0)\n",
      "Requirement already satisfied: pexpect>4.3 in /usr/local/anaconda3/envs/ihaskell/lib/python3.9/site-packages (from ipython>=4.0.0->ipywidgets==7.5.1->-r requirements.txt (line 5)) (4.8.0)\n",
      "Requirement already satisfied: setuptools>=18.5 in /usr/local/anaconda3/envs/ihaskell/lib/python3.9/site-packages (from ipython>=4.0.0->ipywidgets==7.5.1->-r requirements.txt (line 5)) (52.0.0.post20210125)\n",
      "Requirement already satisfied: decorator in /usr/local/anaconda3/envs/ihaskell/lib/python3.9/site-packages (from ipython>=4.0.0->ipywidgets==7.5.1->-r requirements.txt (line 5)) (5.0.9)\n",
      "Requirement already satisfied: backcall in /usr/local/anaconda3/envs/ihaskell/lib/python3.9/site-packages (from ipython>=4.0.0->ipywidgets==7.5.1->-r requirements.txt (line 5)) (0.2.0)\n",
      "Requirement already satisfied: pickleshare in /usr/local/anaconda3/envs/ihaskell/lib/python3.9/site-packages (from ipython>=4.0.0->ipywidgets==7.5.1->-r requirements.txt (line 5)) (0.7.5)\n",
      "Requirement already satisfied: matplotlib-inline in /usr/local/anaconda3/envs/ihaskell/lib/python3.9/site-packages (from ipython>=4.0.0->ipywidgets==7.5.1->-r requirements.txt (line 5)) (0.1.2)\n",
      "Requirement already satisfied: parso<0.9.0,>=0.8.0 in /usr/local/anaconda3/envs/ihaskell/lib/python3.9/site-packages (from jedi>=0.16->ipython>=4.0.0->ipywidgets==7.5.1->-r requirements.txt (line 5)) (0.8.2)\n",
      "Requirement already satisfied: MarkupSafe>=2.0 in /usr/local/anaconda3/envs/ihaskell/lib/python3.9/site-packages (from jinja2>=2.4->nbconvert==5.6.1->-r requirements.txt (line 9)) (2.0.1)\n",
      "Requirement already satisfied: jsonschema!=2.5.0,>=2.4 in /usr/local/anaconda3/envs/ihaskell/lib/python3.9/site-packages (from nbformat>=4.2.0->ipywidgets==7.5.1->-r requirements.txt (line 5)) (3.2.0)\n",
      "Requirement already satisfied: six>=1.11.0 in /usr/local/anaconda3/envs/ihaskell/lib/python3.9/site-packages (from jsonschema!=2.5.0,>=2.4->nbformat>=4.2.0->ipywidgets==7.5.1->-r requirements.txt (line 5)) (1.16.0)\n",
      "Requirement already satisfied: pyrsistent>=0.14.0 in /usr/local/anaconda3/envs/ihaskell/lib/python3.9/site-packages (from jsonschema!=2.5.0,>=2.4->nbformat>=4.2.0->ipywidgets==7.5.1->-r requirements.txt (line 5)) (0.17.3)\n",
      "Requirement already satisfied: attrs>=17.4.0 in /usr/local/anaconda3/envs/ihaskell/lib/python3.9/site-packages (from jsonschema!=2.5.0,>=2.4->nbformat>=4.2.0->ipywidgets==7.5.1->-r requirements.txt (line 5)) (21.2.0)\n",
      "Requirement already satisfied: ptyprocess>=0.5 in /usr/local/anaconda3/envs/ihaskell/lib/python3.9/site-packages (from pexpect>4.3->ipython>=4.0.0->ipywidgets==7.5.1->-r requirements.txt (line 5)) (0.7.0)\n",
      "Requirement already satisfied: wcwidth in /usr/local/anaconda3/envs/ihaskell/lib/python3.9/site-packages (from prompt-toolkit!=3.0.0,!=3.0.1,<3.1.0,>=2.0.0->jupyter-console==6.1.0->-r requirements.txt (line 7)) (0.2.5)\n",
      "Requirement already satisfied: jupyter-contrib-core>=0.3.3 in /usr/local/anaconda3/envs/ihaskell/lib/python3.9/site-packages (from jupyter_contrib_nbextensions->-r requirements.txt (line 3)) (0.3.3)\n",
      "Requirement already satisfied: pyyaml in /usr/local/anaconda3/envs/ihaskell/lib/python3.9/site-packages (from jupyter_contrib_nbextensions->-r requirements.txt (line 3)) (5.4.1)\n",
      "Requirement already satisfied: jupyter-latex-envs>=1.3.8 in /usr/local/anaconda3/envs/ihaskell/lib/python3.9/site-packages (from jupyter_contrib_nbextensions->-r requirements.txt (line 3)) (1.4.6)\n",
      "Requirement already satisfied: jupyter-highlight-selected-word>=0.1.1 in /usr/local/anaconda3/envs/ihaskell/lib/python3.9/site-packages (from jupyter_contrib_nbextensions->-r requirements.txt (line 3)) (0.2.0)\n",
      "Requirement already satisfied: lxml in /usr/local/anaconda3/envs/ihaskell/lib/python3.9/site-packages (from jupyter_contrib_nbextensions->-r requirements.txt (line 3)) (4.6.3)\n",
      "Requirement already satisfied: cffi>=1.0.0 in /usr/local/anaconda3/envs/ihaskell/lib/python3.9/site-packages (from argon2-cffi->notebook==6.1.5->-r requirements.txt (line 10)) (1.14.5)\n",
      "Requirement already satisfied: pycparser in /usr/local/anaconda3/envs/ihaskell/lib/python3.9/site-packages (from cffi>=1.0.0->argon2-cffi->notebook==6.1.5->-r requirements.txt (line 10)) (2.20)\n",
      "Requirement already satisfied: webencodings in /usr/local/anaconda3/envs/ihaskell/lib/python3.9/site-packages (from bleach->nbconvert==5.6.1->-r requirements.txt (line 9)) (0.5.1)\n",
      "Requirement already satisfied: packaging in /usr/local/anaconda3/envs/ihaskell/lib/python3.9/site-packages (from bleach->nbconvert==5.6.1->-r requirements.txt (line 9)) (20.9)\n",
      "Requirement already satisfied: pyparsing>=2.0.2 in /usr/local/anaconda3/envs/ihaskell/lib/python3.9/site-packages (from packaging->bleach->nbconvert==5.6.1->-r requirements.txt (line 9)) (2.4.7)\n",
      "Requirement already satisfied: qtpy in /usr/local/anaconda3/envs/ihaskell/lib/python3.9/site-packages (from qtconsole->jupyter==1.0.0->-r requirements.txt (line 1)) (1.9.0)\n"
     ]
    }
   ],
   "source": [
    "%%bash\n",
    "cd IHaskell\n",
    "pwd\n",
    "sed 's/jupyter-client==6.1.3/jupyter-client==6.1.5/g' requirements.txt # to fix a conflict error being reported\n",
    "pip3 install -r requirements.txt"
   ]
  },
  {
   "cell_type": "code",
   "execution_count": 20,
   "id": "315439bc-f8e7-46ff-921c-73c2045a04f4",
   "metadata": {},
   "outputs": [
    {
     "name": "stdout",
     "output_type": "stream",
     "text": [
      "\u001b[0mError parsing targets: The specified targets matched no packages.\n",
      "Perhaps you need to run 'stack init'?\u001b[0m\n"
     ]
    }
   ],
   "source": [
    "!stack install --fast"
   ]
  },
  {
   "cell_type": "code",
   "execution_count": 22,
   "id": "f7d550b0-a199-4209-bcb1-b738edca5c06",
   "metadata": {},
   "outputs": [
    {
     "name": "stdout",
     "output_type": "stream",
     "text": [
      "zsh:1: command not found: ihaskell\n"
     ]
    }
   ],
   "source": [
    "!ihaskell install --stack"
   ]
  },
  {
   "cell_type": "code",
   "execution_count": null,
   "id": "ff15fde1-4b04-4167-b34a-24cc3b1f6180",
   "metadata": {},
   "outputs": [],
   "source": []
  },
  {
   "cell_type": "markdown",
   "id": "c4a370b6-2553-48b6-9a6f-b9b86632313a",
   "metadata": {},
   "source": [
    "OK, some errors, but let's see if this affects the outcome. Complete block from the github doc, with the modification to fix the version conflict error I saw"
   ]
  },
  {
   "cell_type": "code",
   "execution_count": 21,
   "id": "9fcf3898-a7c4-46f9-b136-689433581827",
   "metadata": {},
   "outputs": [
    {
     "name": "stdout",
     "output_type": "stream",
     "text": [
      "Process is interrupted.\n"
     ]
    }
   ],
   "source": [
    "%%bash\n",
    "curl -sSL https://get.haskellstack.org/ | sh\n",
    "git clone https://github.com/gibiansky/IHaskell\n",
    "cd IHaskell\n",
    "sed 's/jupyter-client==6.1.3/jupyter-client==6.1.5/g' requirements.txt\n",
    "pip3 install -r requirements.txt\n",
    "# stack install gtk2hs-buildtools # Disabled for now because gtk2hs-buildtools doesn't work with lts-13 yet\n",
    "stack install --fast\n",
    "ihaskell install --stack"
   ]
  },
  {
   "cell_type": "code",
   "execution_count": null,
   "id": "b2ddcba0-80ad-476f-ae36-26435758b451",
   "metadata": {},
   "outputs": [],
   "source": []
  }
 ],
 "metadata": {
  "kernelspec": {
   "display_name": "Python 3",
   "language": "python",
   "name": "python3"
  },
  "language_info": {
   "codemirror_mode": {
    "name": "ipython",
    "version": 3
   },
   "file_extension": ".py",
   "mimetype": "text/x-python",
   "name": "python",
   "nbconvert_exporter": "python",
   "pygments_lexer": "ipython3",
   "version": "3.9.5"
  }
 },
 "nbformat": 4,
 "nbformat_minor": 5
}
