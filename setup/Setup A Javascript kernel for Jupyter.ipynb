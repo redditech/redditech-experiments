{
 "cells": [
  {
   "cell_type": "markdown",
   "id": "376410fe",
   "metadata": {},
   "source": [
    "# Setup a Javascript Kernel for Jupyter"
   ]
  },
  {
   "cell_type": "markdown",
   "id": "066e18b2",
   "metadata": {},
   "source": [
    "Why? REPLs are a great way to experiment and learn. It would be nice to have Javascript (and Typescript) code hacks side by side with some documentation on what they do and references/attribution to any sources that helped build them to give credit to the good works of others"
   ]
  },
  {
   "cell_type": "markdown",
   "id": "d939d6be",
   "metadata": {},
   "source": [
    "For this experiment this [list](https://github.com/jupyter/jupyter/wiki/Jupyter-kernels) was used. First try is with [tslab](https://github.com/yunabe/tslab) since it supports Javascript and Typescript although recent activity has been missing so it may be risky to use long term, but it does seem to be [supported by VSCode](https://marketplace.visualstudio.com/items?itemName=donjayamanne.typescript-notebook) as well, since [VSCode also allows running Jupyter notebooks](https://marketplace.visualstudio.com/items?itemName=ms-toolsai.jupyter)\n",
    "\n",
    "Following the [tslab](https://github.com/yunabe/tslab) documentation mostly, with some modifications for my preferences. Caveat as well, I'm using a Mac, so may call on tools like [HomeBrew](https://brew.sh/) to make pre-requisite installations simpler, but may add separate sections for Windows specific setup in future."
   ]
  },
  {
   "cell_type": "markdown",
   "id": "96f21832",
   "metadata": {},
   "source": [
    "## 1. Install a Node environment"
   ]
  },
  {
   "cell_type": "markdown",
   "id": "6d227e5c",
   "metadata": {},
   "source": [
    "> I chose to use [nvm](https://github.com/nvm-sh/nvm) to allow multiple versions of NodeJS to be used"
   ]
  },
  {
   "cell_type": "code",
   "execution_count": 8,
   "id": "0c49b871",
   "metadata": {},
   "outputs": [
    {
     "name": "stdout",
     "output_type": "stream",
     "text": [
      "Updating Homebrew...\n",
      "\u001b[34m==>\u001b[0m \u001b[1mAuto-updated Homebrew!\u001b[0m\n",
      "Updated 1 tap (homebrew/core).\n",
      "\u001b[34m==>\u001b[0m \u001b[1mUpdated Formulae\u001b[0m\n",
      "Updated 3 formulae.\n",
      "\n",
      "\u001b[33mWarning:\u001b[0m nvm 0.38.0 is already installed and up-to-date.\n",
      "To reinstall 0.38.0, run:\n",
      "  brew reinstall nvm\n"
     ]
    }
   ],
   "source": [
    "! brew install nvm"
   ]
  },
  {
   "cell_type": "markdown",
   "id": "65d4821d",
   "metadata": {},
   "source": [
    "## "
   ]
  },
  {
   "cell_type": "markdown",
   "id": "2be9ea71",
   "metadata": {},
   "source": [
    "## 2. Install Python 3"
   ]
  },
  {
   "cell_type": "markdown",
   "id": "22ec3be9",
   "metadata": {},
   "source": [
    "> I chose to use [anaconda](https://www.anaconda.com/products/individual) to simplify it (although it takes longer to install) since I plan to use additional stuff in Python later, and it lets me setup multiple environments as well"
   ]
  },
  {
   "cell_type": "code",
   "execution_count": 2,
   "id": "bc593140",
   "metadata": {},
   "outputs": [
    {
     "name": "stdout",
     "output_type": "stream",
     "text": [
      "Updating Homebrew...\n",
      "\u001b[34m==>\u001b[0m \u001b[1mAuto-updated Homebrew!\u001b[0m\n",
      "Updated 2 taps (homebrew/core and homebrew/cask).\n",
      "\u001b[34m==>\u001b[0m \u001b[1mUpdated Formulae\u001b[0m\n",
      "Updated 6 formulae.\n",
      "\u001b[34m==>\u001b[0m \u001b[1mUpdated Casks\u001b[0m\n",
      "Updated 1 cask.\n",
      "\n",
      "\u001b[33mWarning:\u001b[0m Cask 'anaconda' is already installed.\n",
      "\n",
      "To re-install anaconda, run:\n",
      "  \u001b[32mbrew reinstall anaconda\u001b[39m\n"
     ]
    }
   ],
   "source": [
    "!brew install anaconda"
   ]
  },
  {
   "cell_type": "markdown",
   "id": "3144f955",
   "metadata": {},
   "source": [
    "Setup an environment specific for this project's work with Python 3. Good reference [anaconda cheat sheet](https://docs.conda.io/projects/conda/en/4.6.0/_downloads/52a95608c49671267e40c689e0bc00ca/conda-cheatsheet.pdf) so you can change for the [latest python](https://www.python.org/downloads/) available"
   ]
  },
  {
   "cell_type": "code",
   "execution_count": 11,
   "id": "be610934",
   "metadata": {},
   "outputs": [
    {
     "name": "stdout",
     "output_type": "stream",
     "text": [
      "no change     /usr/local/anaconda3/condabin/conda\n",
      "no change     /usr/local/anaconda3/bin/conda\n",
      "no change     /usr/local/anaconda3/bin/conda-env\n",
      "no change     /usr/local/anaconda3/bin/activate\n",
      "no change     /usr/local/anaconda3/bin/deactivate\n",
      "no change     /usr/local/anaconda3/etc/profile.d/conda.sh\n",
      "no change     /usr/local/anaconda3/etc/fish/conf.d/conda.fish\n",
      "no change     /usr/local/anaconda3/shell/condabin/Conda.psm1\n",
      "no change     /usr/local/anaconda3/shell/condabin/conda-hook.ps1\n",
      "no change     /usr/local/anaconda3/lib/python3.7/site-packages/xontrib/conda.xsh\n",
      "no change     /usr/local/anaconda3/etc/profile.d/conda.csh\n",
      "no change     /Users/nissan/.zshrc\n",
      "No action taken.\n"
     ]
    }
   ],
   "source": [
    "!conda init zsh"
   ]
  },
  {
   "cell_type": "code",
   "execution_count": 12,
   "id": "89e9fde0",
   "metadata": {},
   "outputs": [
    {
     "name": "stdout",
     "output_type": "stream",
     "text": [
      "/Users/nissan/.zshrc:36: command not found: -f\n"
     ]
    }
   ],
   "source": [
    "!source ~/.zshrc"
   ]
  },
  {
   "cell_type": "code",
   "execution_count": 6,
   "id": "83e75c1a",
   "metadata": {},
   "outputs": [
    {
     "name": "stdout",
     "output_type": "stream",
     "text": [
      "Collecting package metadata (current_repodata.json): done\n",
      "Solving environment: done\n",
      "\n",
      "## Package Plan ##\n",
      "\n",
      "  environment location: /usr/local/anaconda3/envs/tslab\n",
      "\n",
      "  added / updated specs:\n",
      "    - python=3.9\n",
      "\n",
      "\n",
      "The following packages will be downloaded:\n",
      "\n",
      "    package                    |            build\n",
      "    ---------------------------|-----------------\n",
      "    certifi-2020.12.5          |   py39hecd8cb5_0         141 KB\n",
      "    pip-21.0.1                 |   py39hecd8cb5_0         1.8 MB\n",
      "    python-3.9.4               |       h88f2d9e_0         9.8 MB\n",
      "    setuptools-52.0.0          |   py39hecd8cb5_0         724 KB\n",
      "    sqlite-3.35.4              |       hce871da_0         1.1 MB\n",
      "    tzdata-2020f               |       h52ac0ba_0         113 KB\n",
      "    ------------------------------------------------------------\n",
      "                                           Total:        13.7 MB\n",
      "\n",
      "The following NEW packages will be INSTALLED:\n",
      "\n",
      "  ca-certificates    pkgs/main/osx-64::ca-certificates-2021.4.13-hecd8cb5_1\n",
      "  certifi            pkgs/main/osx-64::certifi-2020.12.5-py39hecd8cb5_0\n",
      "  libcxx             pkgs/main/osx-64::libcxx-10.0.0-1\n",
      "  libffi             pkgs/main/osx-64::libffi-3.3-hb1e8313_2\n",
      "  ncurses            pkgs/main/osx-64::ncurses-6.2-h0a44026_1\n",
      "  openssl            pkgs/main/osx-64::openssl-1.1.1k-h9ed2024_0\n",
      "  pip                pkgs/main/osx-64::pip-21.0.1-py39hecd8cb5_0\n",
      "  python             pkgs/main/osx-64::python-3.9.4-h88f2d9e_0\n",
      "  readline           pkgs/main/osx-64::readline-8.1-h9ed2024_0\n",
      "  setuptools         pkgs/main/osx-64::setuptools-52.0.0-py39hecd8cb5_0\n",
      "  sqlite             pkgs/main/osx-64::sqlite-3.35.4-hce871da_0\n",
      "  tk                 pkgs/main/osx-64::tk-8.6.10-hb0a8c7a_0\n",
      "  tzdata             pkgs/main/noarch::tzdata-2020f-h52ac0ba_0\n",
      "  wheel              pkgs/main/noarch::wheel-0.36.2-pyhd3eb1b0_0\n",
      "  xz                 pkgs/main/osx-64::xz-5.2.5-h1de35cc_0\n",
      "  zlib               pkgs/main/osx-64::zlib-1.2.11-h1de35cc_3\n",
      "\n",
      "\n",
      "\n",
      "Downloading and Extracting Packages\n",
      "python-3.9.4         | 9.8 MB    | ##################################### | 100% \n",
      "tzdata-2020f         | 113 KB    | ##################################### | 100% \n",
      "certifi-2020.12.5    | 141 KB    | ##################################### | 100% \n",
      "sqlite-3.35.4        | 1.1 MB    | ##################################### | 100% \n",
      "pip-21.0.1           | 1.8 MB    | ##################################### | 100% \n",
      "setuptools-52.0.0    | 724 KB    | ##################################### | 100% \n",
      "Preparing transaction: done\n",
      "Verifying transaction: | WARNING conda.core.path_actions:verify(963): Unable to create environments file. Path not writable.\n",
      "  environment location: /Users/nissan/.conda/environments.txt\n",
      "\n",
      "done\n",
      "Executing transaction: - WARNING conda.core.envs_manager:register_env(52): Unable to register environment. Path not writable or missing.\n",
      "  environment location: /usr/local/anaconda3/envs/tslab\n",
      "  registry file: /Users/nissan/.conda/environments.txt\n",
      "done\n",
      "#\n",
      "# To activate this environment, use\n",
      "#\n",
      "#     $ conda activate tslab\n",
      "#\n",
      "# To deactivate an active environment, use\n",
      "#\n",
      "#     $ conda deactivate\n",
      "\n",
      "\n",
      "Note: you may need to restart the kernel to use updated packages.\n"
     ]
    }
   ],
   "source": [
    "conda create --name tslab python=3.9 --yes"
   ]
  },
  {
   "cell_type": "markdown",
   "id": "3eeb1472-2f74-4c8b-ae76-0f1e27604697",
   "metadata": {},
   "source": [
    "> Note this next step won't work in a notebook, but in your environment you should run it"
   ]
  },
  {
   "cell_type": "code",
   "execution_count": 2,
   "id": "075bcedf",
   "metadata": {},
   "outputs": [
    {
     "name": "stdout",
     "output_type": "stream",
     "text": [
      "\n",
      "CommandNotFoundError: Your shell has not been properly configured to use 'conda activate'.\n",
      "To initialize your shell, run\n",
      "\n",
      "    $ conda init <SHELL_NAME>\n",
      "\n",
      "Currently supported shells are:\n",
      "  - bash\n",
      "  - fish\n",
      "  - tcsh\n",
      "  - xonsh\n",
      "  - zsh\n",
      "  - powershell\n",
      "\n",
      "See 'conda init --help' for more information and options.\n",
      "\n",
      "IMPORTANT: You may need to close and restart your shell after running 'conda init'.\n",
      "\n",
      "\n"
     ]
    }
   ],
   "source": [
    "!conda activate tslab"
   ]
  },
  {
   "cell_type": "markdown",
   "id": "bfaa854b-9aae-4f4e-ab28-c34ea84696b4",
   "metadata": {},
   "source": [
    "## 3. Install Jupyter Lab "
   ]
  },
  {
   "cell_type": "markdown",
   "id": "1decab6d-3aac-4951-945f-fcd45b5a0967",
   "metadata": {},
   "source": [
    "> You can also use classic Jupyter Notebook if you wish"
   ]
  },
  {
   "cell_type": "code",
   "execution_count": 1,
   "id": "90da59b3-d586-4bf9-964e-294705e9a20e",
   "metadata": {},
   "outputs": [
    {
     "name": "stdout",
     "output_type": "stream",
     "text": [
      "Collecting package metadata (current_repodata.json): done\n",
      "Solving environment: done\n",
      "\n",
      "# All requested packages already installed.\n",
      "\n"
     ]
    }
   ],
   "source": [
    "!conda install -c conda-forge jupyterlab"
   ]
  },
  {
   "cell_type": "markdown",
   "id": "23e3473f-8486-4005-a53e-4fad8f8302d2",
   "metadata": {},
   "source": [
    "> This command will show available kernels, note this isn't my first kernel added so yours may just show python for now "
   ]
  },
  {
   "cell_type": "code",
   "execution_count": 5,
   "id": "69e94c26-e481-4863-9237-284fa27dede4",
   "metadata": {},
   "outputs": [
    {
     "name": "stdout",
     "output_type": "stream",
     "text": [
      "Available kernels:\n",
      "  .net-csharp        /Users/nissan/Library/Jupyter/kernels/.net-csharp\n",
      "  .net-fsharp        /Users/nissan/Library/Jupyter/kernels/.net-fsharp\n",
      "  .net-powershell    /Users/nissan/Library/Jupyter/kernels/.net-powershell\n",
      "  julia-1.4          /Users/nissan/Library/Jupyter/kernels/julia-1.4\n",
      "  python3            /usr/local/anaconda3/envs/tslab/share/jupyter/kernels/python3\n"
     ]
    }
   ],
   "source": [
    "!jupyter kernelspec list"
   ]
  },
  {
   "cell_type": "markdown",
   "id": "cbd46507-8d5f-41fb-8f8d-2eca486a3173",
   "metadata": {},
   "source": [
    "## 4. Setup a node environment to work with"
   ]
  },
  {
   "cell_type": "markdown",
   "id": "c3aac61a-f89e-4acf-b1a2-a7e179a9b077",
   "metadata": {},
   "source": [
    "> I will use the latest version, but you also use the latest LTS"
   ]
  },
  {
   "cell_type": "code",
   "execution_count": 1,
   "id": "f6c63612-388d-4b6c-a218-b64746999d67",
   "metadata": {},
   "outputs": [
    {
     "name": "stdout",
     "output_type": "stream",
     "text": [
      "zsh:1: command not found: nvm\n"
     ]
    }
   ],
   "source": [
    "!nvm ls-remote"
   ]
  },
  {
   "cell_type": "markdown",
   "id": "7a5e2f63-5248-4b6f-bbeb-03e21b24d352",
   "metadata": {},
   "source": [
    "nvm isn't in my path, so need to figure out how to add it since I installed it via HomeBrew"
   ]
  },
  {
   "cell_type": "code",
   "execution_count": 10,
   "id": "04a2cc72-aa66-46dd-95a1-4c0039ec31e7",
   "metadata": {},
   "outputs": [
    {
     "name": "stdout",
     "output_type": "stream",
     "text": [
      "nvm: stable 0.38.0 (bottled), HEAD\n",
      "Manage multiple Node.js versions\n",
      "\u001b[4mhttps://github.com/nvm-sh/nvm\u001b[24m\n",
      "/usr/local/Cellar/nvm/0.38.0 (7 files, 176KB) *\n",
      "  Built from source on 2021-04-10 at 21:50:22\n",
      "From: \u001b[4mhttps://github.com/Homebrew/homebrew-core/blob/HEAD/Formula/nvm.rb\u001b[24m\n",
      "License: MIT\n",
      "\u001b[34m==>\u001b[0m \u001b[1mOptions\u001b[0m\n",
      "--HEAD\n",
      "\tInstall HEAD version\n",
      "\u001b[34m==>\u001b[0m \u001b[1mCaveats\u001b[0m\n",
      "Please note that upstream has asked us to make explicit managing\n",
      "nvm via Homebrew is unsupported by them and you should check any\n",
      "problems against the standard nvm install method prior to reporting.\n",
      "\n",
      "You should create NVM's working directory if it doesn't exist:\n",
      "\n",
      "  mkdir ~/.nvm\n",
      "\n",
      "Add the following to ~/.zshrc or your desired shell\n",
      "configuration file:\n",
      "\n",
      "  export NVM_DIR=\"$HOME/.nvm\"\n",
      "  [ -s \"/usr/local/opt/nvm/nvm.sh\" ] && . \"/usr/local/opt/nvm/nvm.sh\"  # This loads nvm\n",
      "  [ -s \"/usr/local/opt/nvm/etc/bash_completion.d/nvm\" ] && . \"/usr/local/opt/nvm/etc/bash_completion.d/nvm\"  # This loads nvm bash_completion\n",
      "\n",
      "You can set $NVM_DIR to any location, but leaving it unchanged from\n",
      "/usr/local/opt/nvm will destroy any nvm-installed Node installations\n",
      "upon upgrade/reinstall.\n",
      "\n",
      "Type `nvm help` for further information.\n",
      "\u001b[34m==>\u001b[0m \u001b[1mAnalytics\u001b[0m\n",
      "install: 54,915 (30 days), 158,537 (90 days), 514,298 (365 days)\n",
      "install-on-request: 54,872 (30 days), 158,415 (90 days), 512,137 (365 days)\n",
      "build-error: 0 (30 days)\n"
     ]
    }
   ],
   "source": [
    "!brew info nvm"
   ]
  },
  {
   "cell_type": "code",
   "execution_count": 11,
   "id": "366f6740-2566-4aff-996d-d11903b37acd",
   "metadata": {},
   "outputs": [
    {
     "name": "stdout",
     "output_type": "stream",
     "text": [
      "mkdir: /Users/nissan/.nvm: File exists\n"
     ]
    }
   ],
   "source": [
    "!mkdir ~/.nvm"
   ]
  },
  {
   "cell_type": "markdown",
   "id": "e51acb65-f04b-4611-8b1b-9f5107536908",
   "metadata": {},
   "source": [
    "Follow the instructions above in `vim` or similar editor to add the lines required to your `.zshrc` and then confirm node is available"
   ]
  },
  {
   "cell_type": "code",
   "execution_count": 2,
   "id": "72f85d64-4dab-45fb-a131-8bc8c8206b33",
   "metadata": {},
   "outputs": [
    {
     "name": "stdout",
     "output_type": "stream",
     "text": [
      "v16.2.0\n"
     ]
    }
   ],
   "source": [
    "!node -v"
   ]
  },
  {
   "cell_type": "code",
   "execution_count": 3,
   "id": "13822b8c-c5c7-4e56-a284-d1ea56d8880a",
   "metadata": {},
   "outputs": [
    {
     "name": "stdout",
     "output_type": "stream",
     "text": [
      "7.13.0\n"
     ]
    }
   ],
   "source": [
    "!npm -v"
   ]
  },
  {
   "cell_type": "markdown",
   "id": "3b7ff0ff-3aef-478e-bd86-1c9b23e364fd",
   "metadata": {},
   "source": [
    "## 5. Install `tslab` globally with `npm`"
   ]
  },
  {
   "cell_type": "code",
   "execution_count": 4,
   "id": "06fa8696-2d94-443b-8025-ed08a1fe1584",
   "metadata": {},
   "outputs": [
    {
     "name": "stdout",
     "output_type": "stream",
     "text": [
      "\u001b[K\u001b[?25h              \u001b[27m⸩ ⠦ reify:@tslab/typescript-for-tslab: \u001b[32;40mhttp\u001b[0m \u001b[35mfetch\u001b[0m GET 200 ht\u001b[0m\u001b[Kht\u001b[0m\u001b[K\n",
      "added 42 packages, and audited 43 packages in 10s\n",
      "\n",
      "5 packages are looking for funding\n",
      "  run `npm fund` for details\n",
      "\n",
      "found \u001b[32m\u001b[1m0\u001b[22m\u001b[39m vulnerabilities\n"
     ]
    }
   ],
   "source": [
    "!npm install -g tslab"
   ]
  },
  {
   "cell_type": "markdown",
   "id": "d743d03d-a9dd-4a92-8a3b-3dbea2a7ea60",
   "metadata": {},
   "source": [
    "> Confirm `tslab` is installed properly"
   ]
  },
  {
   "cell_type": "code",
   "execution_count": 5,
   "id": "924adef1-08ee-41e8-9ab2-3a5830f0c031",
   "metadata": {},
   "outputs": [
    {
     "name": "stdout",
     "output_type": "stream",
     "text": [
      "tslab 1.0.15\n"
     ]
    }
   ],
   "source": [
    "!tslab --version"
   ]
  },
  {
   "cell_type": "markdown",
   "id": "a20dbd03-0354-4b49-94fb-79cadfda73cf",
   "metadata": {},
   "source": [
    "> Install `tslab` as a kernel"
   ]
  },
  {
   "cell_type": "code",
   "execution_count": 6,
   "id": "57c5e7e1-2963-4406-81b6-fecd4e36aec7",
   "metadata": {},
   "outputs": [
    {
     "name": "stdout",
     "output_type": "stream",
     "text": [
      "Running python3 /Users/nissan/.nvm/versions/node/v16.2.0/lib/node_modules/tslab/python/install.py --tslab=tslab\n",
      "Installing TypeScript kernel spec\n",
      "Installing JavaScript kernel spec\n"
     ]
    }
   ],
   "source": [
    "!tslab install"
   ]
  },
  {
   "cell_type": "markdown",
   "id": "ab45c11a-47c9-4e9e-9781-764dfffb4a1b",
   "metadata": {},
   "source": [
    "> Confirm it is now available as a kernel for Jupyter"
   ]
  },
  {
   "cell_type": "code",
   "execution_count": 8,
   "id": "607520b6-d246-4356-b094-79c362438c5e",
   "metadata": {},
   "outputs": [
    {
     "name": "stdout",
     "output_type": "stream",
     "text": [
      "Available kernels:\n",
      "  .net-csharp        /Users/nissan/Library/Jupyter/kernels/.net-csharp\n",
      "  .net-fsharp        /Users/nissan/Library/Jupyter/kernels/.net-fsharp\n",
      "  .net-powershell    /Users/nissan/Library/Jupyter/kernels/.net-powershell\n",
      "  jslab              /Users/nissan/Library/Jupyter/kernels/jslab\n",
      "  julia-1.4          /Users/nissan/Library/Jupyter/kernels/julia-1.4\n",
      "  tslab              /Users/nissan/Library/Jupyter/kernels/tslab\n",
      "  python3            /usr/local/anaconda3/envs/tslab/share/jupyter/kernels/python3\n"
     ]
    }
   ],
   "source": [
    "!jupyter kernelspec list"
   ]
  },
  {
   "cell_type": "markdown",
   "id": "106de32a-c345-4e9d-9c53-80aea35f10a2",
   "metadata": {},
   "source": [
    "## 6. Confirm it's all good now"
   ]
  },
  {
   "cell_type": "markdown",
   "id": "89124b0a-43cb-46e2-a765-924d67a234b4",
   "metadata": {},
   "source": [
    "> Change the kernel and confirm a sample piece of Javascript will run. Reference [the docs](https://jupyterlab.readthedocs.io/en/stable/user/running.html) if not sure how to do this"
   ]
  },
  {
   "cell_type": "code",
   "execution_count": 1,
   "id": "24b4335a-540a-4b82-8be2-411d1bbbf9f4",
   "metadata": {},
   "outputs": [
    {
     "name": "stdout",
     "output_type": "stream",
     "text": [
      "Hello world\n"
     ]
    }
   ],
   "source": [
    "console.log(\"Hello world\")"
   ]
  },
  {
   "cell_type": "code",
   "execution_count": 4,
   "id": "cccdd1e7-e1ac-4e5b-bc42-1696200e48a5",
   "metadata": {},
   "outputs": [],
   "source": [
    "const sayHello = (name) => { console.log(`Hello ${name}`);}"
   ]
  },
  {
   "cell_type": "code",
   "execution_count": 5,
   "id": "797703fd-674f-4c45-a92c-8b9e090a91da",
   "metadata": {},
   "outputs": [
    {
     "name": "stdout",
     "output_type": "stream",
     "text": [
      "Hello Nissan\n"
     ]
    }
   ],
   "source": [
    "sayHello(\"Nissan\");"
   ]
  },
  {
   "cell_type": "markdown",
   "id": "65fb9cab-f4fe-4942-80d1-cbebe67a1f43",
   "metadata": {},
   "source": [
    "*And we're done! Awesome!!*"
   ]
  },
  {
   "cell_type": "code",
   "execution_count": null,
   "id": "141e36cd-11b3-46ed-88bb-3f16397476c4",
   "metadata": {},
   "outputs": [],
   "source": []
  }
 ],
 "metadata": {
  "kernelspec": {
   "display_name": "TypeScript",
   "language": "typescript",
   "name": "tslab"
  },
  "language_info": {
   "codemirror_mode": {
    "mode": "typescript",
    "name": "javascript",
    "typescript": true
   },
   "file_extension": ".ts",
   "mimetype": "text/typescript",
   "name": "typescript",
   "version": "3.7.2"
  }
 },
 "nbformat": 4,
 "nbformat_minor": 5
}
